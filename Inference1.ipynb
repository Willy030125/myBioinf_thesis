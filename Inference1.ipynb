{
 "cells": [
  {
   "cell_type": "markdown",
   "id": "8bd930d4-11bd-45cd-9c43-955c35c935f7",
   "metadata": {},
   "source": [
    "### Inference (Index-based Encoding)"
   ]
  },
  {
   "cell_type": "code",
   "execution_count": 1,
   "id": "0468084d-e2a8-4ce1-ab6c-87aafb665f35",
   "metadata": {
    "tags": []
   },
   "outputs": [],
   "source": [
    "target_names = ['Human Adenovirus',\n",
    "                'MERS-CoV',\n",
    "                'Parainfluenza virus',\n",
    "                'Rhinovirus-HRV',\n",
    "                'SARS-CoV-2',\n",
    "                'Zaire Ebolavirus',\n",
    "                'Zika virus']"
   ]
  },
  {
   "cell_type": "code",
   "execution_count": 2,
   "id": "35e60be2-1c77-4e93-9606-60d22adcb0ab",
   "metadata": {
    "tags": []
   },
   "outputs": [],
   "source": [
    "import os\n",
    "import numpy as np\n",
    "import pandas as pd\n",
    "from Bio import SeqIO\n",
    "import tensorflow as tf\n",
    "import tensorflow.keras.backend as K"
   ]
  },
  {
   "cell_type": "code",
   "execution_count": 3,
   "id": "4c25bca6-503d-49e9-9790-b0f398a34d18",
   "metadata": {
    "tags": []
   },
   "outputs": [],
   "source": [
    "def dna_index_encoding(Text, n):\n",
    "    dna_token = {\"AAA\": 1, \"AAC\": 2, \"AAT\": 3, \"AAG\": 4, \"ACA\": 5, \"ACC\": 6, \"ACT\": 7, \"ACG\": 8, \"ATA\": 9, \"ATC\": 10, \"ATT\": 11, \"ATG\": 12, \"AGA\": 13, \"AGC\": 14, \"AGT\": 15, \"AGG\": 16,\n",
    "                \"CAA\": 17, \"CAC\": 18, \"CAT\": 19, \"CAG\": 20, \"CCA\": 21, \"CCC\": 22, \"CCT\": 23, \"CCG\": 24, \"CTA\": 25, \"CTC\": 26, \"CTT\": 27, \"CTG\": 28, \"CGA\": 29, \"CGC\": 30, \"CGT\": 31, \"CGG\": 32,\n",
    "                \"GAA\": 33, \"GAC\": 34, \"GAT\": 35, \"GAG\": 36, \"GCA\": 37, \"GCC\": 38, \"GCT\": 39, \"GCG\": 40, \"GTA\": 41, \"GTC\": 42, \"GTT\": 43, \"GTG\": 44, \"GGA\": 45, \"GGC\": 46, \"GGT\": 47, \"GGG\": 48,\n",
    "                \"TAA\": 49, \"TAC\": 50, \"TAT\": 51, \"TAG\": 52, \"TCA\": 53, \"TCC\": 54, \"TCT\": 55, \"TCG\": 56, \"TTA\": 57, \"TTC\": 58, \"TTG\": 59, \"TGA\": 60, \"TGC\": 61, \"TGT\": 62, \"TGG\": 63, \"TTT\": 64}\n",
    "\n",
    "    encoding_sequence = []\n",
    "    l=len(Text)\n",
    "\n",
    "    for i in range (l-n+1):\n",
    "        Pattern = Text[i:i+n]\n",
    "        try:\n",
    "            index = dna_token[Pattern]\n",
    "            encoding_sequence.append(index)\n",
    "        except KeyError as e:\n",
    "            print(\"Unknown sequence:\", e)\n",
    "            continue\n",
    "\n",
    "    return encoding_sequence"
   ]
  },
  {
   "cell_type": "markdown",
   "id": "48eb32df-ac7d-40ee-ac1d-f5a13af63b3d",
   "metadata": {},
   "source": [
    "### Load model"
   ]
  },
  {
   "cell_type": "code",
   "execution_count": 4,
   "id": "db1b24cf-5006-496d-a1fc-f92718c9d671",
   "metadata": {
    "tags": []
   },
   "outputs": [],
   "source": [
    "model = tf.keras.models.load_model(\"model1.h5\")"
   ]
  },
  {
   "cell_type": "code",
   "execution_count": 53,
   "id": "930f90df-d6d4-4a5a-9aad-01dfe6e5f20d",
   "metadata": {
    "tags": []
   },
   "outputs": [],
   "source": [
    "input_data = \"J01917.1.fasta\"\n",
    "sequences = []\n",
    "seq_IDs = []\n",
    "for record in SeqIO.parse(input_data, \"fasta\"):\n",
    "    sequences.append(record.seq)\n",
    "    seq_IDs.append(record.id)\n",
    "\n",
    "result = dna_index_encoding(str(sequences[0]), 3)"
   ]
  },
  {
   "cell_type": "code",
   "execution_count": 54,
   "id": "a0a99935-b3eb-48c4-8533-dc123462e967",
   "metadata": {
    "tags": []
   },
   "outputs": [
    {
     "data": {
      "text/plain": [
       "array([[19, 10, 53, ...,  0,  0,  0]])"
      ]
     },
     "execution_count": 54,
     "metadata": {},
     "output_type": "execute_result"
    }
   ],
   "source": [
    "from tensorflow.keras.preprocessing.sequence import pad_sequences\n",
    "\n",
    "# pad sequences for filling the blank arrays\n",
    "x = pad_sequences([result], padding='post', truncating='post', maxlen=35999)\n",
    "x"
   ]
  },
  {
   "cell_type": "code",
   "execution_count": 55,
   "id": "8dbb5ab7-6d07-4007-8877-279b91bad2f7",
   "metadata": {
    "tags": []
   },
   "outputs": [
    {
     "data": {
      "text/plain": [
       "(1, 35999)"
      ]
     },
     "execution_count": 55,
     "metadata": {},
     "output_type": "execute_result"
    }
   ],
   "source": [
    "x.shape"
   ]
  },
  {
   "cell_type": "code",
   "execution_count": null,
   "id": "9bdd8782-b086-4049-8fa3-ebf12d56d785",
   "metadata": {
    "tags": []
   },
   "outputs": [],
   "source": [
    "new_pred = np.round(model.predict(x))\n",
    "new_pred"
   ]
  },
  {
   "cell_type": "code",
   "execution_count": 57,
   "id": "66642e84-8b89-48f6-abc3-d89886ef0e27",
   "metadata": {
    "tags": []
   },
   "outputs": [
    {
     "data": {
      "text/plain": [
       "'Human Adenovirus'"
      ]
     },
     "execution_count": 57,
     "metadata": {},
     "output_type": "execute_result"
    }
   ],
   "source": [
    "target_names[np.argmax(new_pred)]"
   ]
  },
  {
   "cell_type": "code",
   "execution_count": null,
   "id": "6f07afbb-4d2a-4e41-949c-1f91b29c5931",
   "metadata": {},
   "outputs": [],
   "source": []
  }
 ],
 "metadata": {
  "kernelspec": {
   "display_name": "Python 3 (ipykernel)",
   "language": "python",
   "name": "python3"
  },
  "language_info": {
   "codemirror_mode": {
    "name": "ipython",
    "version": 3
   },
   "file_extension": ".py",
   "mimetype": "text/x-python",
   "name": "python",
   "nbconvert_exporter": "python",
   "pygments_lexer": "ipython3",
   "version": "3.8.10"
  }
 },
 "nbformat": 4,
 "nbformat_minor": 5
}

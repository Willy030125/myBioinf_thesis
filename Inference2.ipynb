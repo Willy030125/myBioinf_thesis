{
 "cells": [
  {
   "cell_type": "markdown",
   "id": "8bd930d4-11bd-45cd-9c43-955c35c935f7",
   "metadata": {},
   "source": [
    "### Inference N-mers Frequency"
   ]
  },
  {
   "cell_type": "code",
   "execution_count": 1,
   "id": "0468084d-e2a8-4ce1-ab6c-87aafb665f35",
   "metadata": {
    "tags": []
   },
   "outputs": [],
   "source": [
    "target_names = ['Human Adenovirus',\n",
    "                'MERS-CoV',\n",
    "                'Parainfluenza virus',\n",
    "                'Rhinovirus-HRV',\n",
    "                'SARS-CoV-2',\n",
    "                'Zaire Ebolavirus',\n",
    "                'Zika virus']"
   ]
  },
  {
   "cell_type": "code",
   "execution_count": 2,
   "id": "35e60be2-1c77-4e93-9606-60d22adcb0ab",
   "metadata": {
    "tags": []
   },
   "outputs": [],
   "source": [
    "import os\n",
    "import numpy as np\n",
    "import pandas as pd\n",
    "from Bio import SeqIO\n",
    "import tensorflow as tf\n",
    "import tensorflow.keras.backend as K"
   ]
  },
  {
   "cell_type": "code",
   "execution_count": 3,
   "id": "4c25bca6-503d-49e9-9790-b0f398a34d18",
   "metadata": {
    "tags": []
   },
   "outputs": [],
   "source": [
    "# N-mers Frequency function\n",
    "def n_mers(Text, n):\n",
    "    freq = {}\n",
    "    l=len(Text)\n",
    "    for i in range (l-n+1):\n",
    "        Pattern = Text[i:i+n]\n",
    "        if Pattern not in freq:\n",
    "            freq[Pattern] = 1 # if a pattern found is not already  in the dictionary freq{}, it is assigned a value of 1 and added to the list\n",
    "        else:\n",
    "            freq[Pattern] +=1 # however, if the pattern is already in the dictionary, its value should go up by 1 (so if it has been found, it is initially given a pattern of 1, and then this adds another 1 if it is found again\n",
    "    return dict(sorted(freq.items()))"
   ]
  },
  {
   "cell_type": "code",
   "execution_count": 4,
   "id": "1d0654f3-9371-420e-b0c3-5581c87d9721",
   "metadata": {
    "tags": []
   },
   "outputs": [],
   "source": [
    "dna_ordered_list = [\"AAA\", \"AAC\", \"AAT\", \"AAG\", \"ACA\", \"ACC\", \"ACT\", \"ACG\", \"ATA\", \"ATC\",\n",
    "                    \"ATT\", \"ATG\", \"AGA\", \"AGC\", \"AGT\", \"AGG\", \"CAA\", \"CAC\", \"CAT\", \"CAG\",\n",
    "                    \"CCA\", \"CCC\", \"CCT\", \"CCG\", \"CTA\", \"CTC\", \"CTT\", \"CTG\", \"CGA\", \"CGC\",\n",
    "                    \"CGT\", \"CGG\", \"GAA\", \"GAC\", \"GAT\", \"GAG\", \"GCA\", \"GCC\", \"GCT\", \"GCG\",\n",
    "                    \"GTA\", \"GTC\", \"GTT\", \"GTG\", \"GGA\", \"GGC\", \"GGT\", \"GGG\", \"TAA\", \"TAC\",\n",
    "                    \"TAT\", \"TAG\", \"TCA\", \"TCC\", \"TCT\", \"TCG\", \"TTA\", \"TTC\", \"TTG\", \"TGA\",\n",
    "                    \"TGC\", \"TGT\", \"TGG\", \"TTT\"]"
   ]
  },
  {
   "cell_type": "markdown",
   "id": "48eb32df-ac7d-40ee-ac1d-f5a13af63b3d",
   "metadata": {},
   "source": [
    "### Load model"
   ]
  },
  {
   "cell_type": "code",
   "execution_count": 5,
   "id": "db1b24cf-5006-496d-a1fc-f92718c9d671",
   "metadata": {
    "tags": []
   },
   "outputs": [],
   "source": [
    "model = tf.keras.models.load_model(\"model2.h5\")"
   ]
  },
  {
   "cell_type": "code",
   "execution_count": 6,
   "id": "930f90df-d6d4-4a5a-9aad-01dfe6e5f20d",
   "metadata": {
    "tags": []
   },
   "outputs": [],
   "source": [
    "input_data = \"J01917.1.fasta\"\n",
    "sequences = []\n",
    "seq_IDs = []\n",
    "for record in SeqIO.parse(input_data, \"fasta\"):\n",
    "    sequences.append(record.seq)\n",
    "    seq_IDs.append(record.id)\n",
    "\n",
    "result = n_mers(str(sequences[0]), 3)"
   ]
  },
  {
   "cell_type": "code",
   "execution_count": 7,
   "id": "6f07afbb-4d2a-4e41-949c-1f91b29c5931",
   "metadata": {},
   "outputs": [],
   "source": [
    "new_arr = []\n",
    "\n",
    "for string in dna_ordered_list:\n",
    "    new_arr.append(result[string])"
   ]
  },
  {
   "cell_type": "code",
   "execution_count": 8,
   "id": "b52b2d9f-d1a7-4fb9-88b7-cd42c20c11dd",
   "metadata": {
    "tags": []
   },
   "outputs": [
    {
     "data": {
      "text/plain": [
       "(1, 64)"
      ]
     },
     "execution_count": 8,
     "metadata": {},
     "output_type": "execute_result"
    }
   ],
   "source": [
    "x = np.array(new_arr)\n",
    "x = np.reshape(x, (1, 64))\n",
    "x.shape"
   ]
  },
  {
   "cell_type": "code",
   "execution_count": 9,
   "id": "9a90365a-4fb9-4b32-ba7c-e84903e23102",
   "metadata": {
    "tags": []
   },
   "outputs": [
    {
     "name": "stdout",
     "output_type": "stream",
     "text": [
      "1/1 [==============================] - 6s 6s/step\n"
     ]
    },
    {
     "data": {
      "text/plain": [
       "array([[1., 0., 0., 0., 0., 0., 0.]], dtype=float32)"
      ]
     },
     "execution_count": 9,
     "metadata": {},
     "output_type": "execute_result"
    }
   ],
   "source": [
    "new_pred = np.round(model.predict(x))\n",
    "new_pred"
   ]
  },
  {
   "cell_type": "code",
   "execution_count": 10,
   "id": "0ec04bd8-dd76-47db-b959-589793fc7cc4",
   "metadata": {
    "tags": []
   },
   "outputs": [
    {
     "data": {
      "text/plain": [
       "'Human Adenovirus'"
      ]
     },
     "execution_count": 10,
     "metadata": {},
     "output_type": "execute_result"
    }
   ],
   "source": [
    "target_names[np.argmax(new_pred)]"
   ]
  },
  {
   "cell_type": "code",
   "execution_count": null,
   "id": "a23e5c9e-16e1-448a-b22b-5787a4ce4d66",
   "metadata": {},
   "outputs": [],
   "source": []
  }
 ],
 "metadata": {
  "kernelspec": {
   "display_name": "Python 3 (ipykernel)",
   "language": "python",
   "name": "python3"
  },
  "language_info": {
   "codemirror_mode": {
    "name": "ipython",
    "version": 3
   },
   "file_extension": ".py",
   "mimetype": "text/x-python",
   "name": "python",
   "nbconvert_exporter": "python",
   "pygments_lexer": "ipython3",
   "version": "3.8.10"
  }
 },
 "nbformat": 4,
 "nbformat_minor": 5
}
